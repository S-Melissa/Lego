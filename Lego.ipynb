{
 "cells": [
  {
   "cell_type": "markdown",
   "id": "67118170-0f8e-4e0a-a46c-ebc52b3b5cf3",
   "metadata": {},
   "source": [
    "# Exploration of lego sets and color over the years"
   ]
  },
  {
   "cell_type": "code",
   "execution_count": 1,
   "id": "146fa7c3-de03-4fe9-b9a9-07aa55c3c2ae",
   "metadata": {},
   "outputs": [],
   "source": [
    "import pandas as pd\n",
    "import matplotlib as plt\n",
    "import numpy as np"
   ]
  },
  {
   "cell_type": "markdown",
   "id": "532fd1fa-74b5-40d6-82eb-c0ad3c49cd3b",
   "metadata": {
    "tags": []
   },
   "source": [
    "# Lego colors dataset"
   ]
  },
  {
   "cell_type": "code",
   "execution_count": 2,
   "id": "af64f8a5-facc-4dec-bcc4-4e6da87b06cf",
   "metadata": {
    "tags": []
   },
   "outputs": [
    {
     "data": {
      "text/html": [
       "<div>\n",
       "<style scoped>\n",
       "    .dataframe tbody tr th:only-of-type {\n",
       "        vertical-align: middle;\n",
       "    }\n",
       "\n",
       "    .dataframe tbody tr th {\n",
       "        vertical-align: top;\n",
       "    }\n",
       "\n",
       "    .dataframe thead th {\n",
       "        text-align: right;\n",
       "    }\n",
       "</style>\n",
       "<table border=\"1\" class=\"dataframe\">\n",
       "  <thead>\n",
       "    <tr style=\"text-align: right;\">\n",
       "      <th></th>\n",
       "      <th>id</th>\n",
       "      <th>name</th>\n",
       "      <th>rgb</th>\n",
       "      <th>is_trans</th>\n",
       "    </tr>\n",
       "  </thead>\n",
       "  <tbody>\n",
       "    <tr>\n",
       "      <th>0</th>\n",
       "      <td>-1</td>\n",
       "      <td>Unknown</td>\n",
       "      <td>0033B2</td>\n",
       "      <td>f</td>\n",
       "    </tr>\n",
       "    <tr>\n",
       "      <th>1</th>\n",
       "      <td>0</td>\n",
       "      <td>Black</td>\n",
       "      <td>05131D</td>\n",
       "      <td>f</td>\n",
       "    </tr>\n",
       "    <tr>\n",
       "      <th>2</th>\n",
       "      <td>1</td>\n",
       "      <td>Blue</td>\n",
       "      <td>0055BF</td>\n",
       "      <td>f</td>\n",
       "    </tr>\n",
       "    <tr>\n",
       "      <th>3</th>\n",
       "      <td>2</td>\n",
       "      <td>Green</td>\n",
       "      <td>237841</td>\n",
       "      <td>f</td>\n",
       "    </tr>\n",
       "    <tr>\n",
       "      <th>4</th>\n",
       "      <td>3</td>\n",
       "      <td>Dark Turquoise</td>\n",
       "      <td>008F9B</td>\n",
       "      <td>f</td>\n",
       "    </tr>\n",
       "    <tr>\n",
       "      <th>...</th>\n",
       "      <td>...</td>\n",
       "      <td>...</td>\n",
       "      <td>...</td>\n",
       "      <td>...</td>\n",
       "    </tr>\n",
       "    <tr>\n",
       "      <th>130</th>\n",
       "      <td>1004</td>\n",
       "      <td>Trans Flame Yellowish Orange</td>\n",
       "      <td>FCB76D</td>\n",
       "      <td>t</td>\n",
       "    </tr>\n",
       "    <tr>\n",
       "      <th>131</th>\n",
       "      <td>1005</td>\n",
       "      <td>Trans Fire Yellow</td>\n",
       "      <td>FBE890</td>\n",
       "      <td>t</td>\n",
       "    </tr>\n",
       "    <tr>\n",
       "      <th>132</th>\n",
       "      <td>1006</td>\n",
       "      <td>Trans Light Royal Blue</td>\n",
       "      <td>B4D4F7</td>\n",
       "      <td>t</td>\n",
       "    </tr>\n",
       "    <tr>\n",
       "      <th>133</th>\n",
       "      <td>1007</td>\n",
       "      <td>Reddish Lilac</td>\n",
       "      <td>8E5597</td>\n",
       "      <td>f</td>\n",
       "    </tr>\n",
       "    <tr>\n",
       "      <th>134</th>\n",
       "      <td>9999</td>\n",
       "      <td>[No Color]</td>\n",
       "      <td>05131D</td>\n",
       "      <td>f</td>\n",
       "    </tr>\n",
       "  </tbody>\n",
       "</table>\n",
       "<p>135 rows × 4 columns</p>\n",
       "</div>"
      ],
      "text/plain": [
       "       id                          name     rgb is_trans\n",
       "0      -1                       Unknown  0033B2        f\n",
       "1       0                         Black  05131D        f\n",
       "2       1                          Blue  0055BF        f\n",
       "3       2                         Green  237841        f\n",
       "4       3                Dark Turquoise  008F9B        f\n",
       "..    ...                           ...     ...      ...\n",
       "130  1004  Trans Flame Yellowish Orange  FCB76D        t\n",
       "131  1005             Trans Fire Yellow  FBE890        t\n",
       "132  1006        Trans Light Royal Blue  B4D4F7        t\n",
       "133  1007                 Reddish Lilac  8E5597        f\n",
       "134  9999                    [No Color]  05131D        f\n",
       "\n",
       "[135 rows x 4 columns]"
      ]
     },
     "execution_count": 2,
     "metadata": {},
     "output_type": "execute_result"
    }
   ],
   "source": [
    "colors_df = pd.read_csv('RawData/colors.csv')\n",
    "colors_df_backup = colors_df.to_csv()\n",
    "colors_df"
   ]
  },
  {
   "cell_type": "markdown",
   "id": "ea784c1d-ff8b-4852-a729-549db93f22b2",
   "metadata": {},
   "source": [
    "## Cleaning / Wrangling"
   ]
  },
  {
   "cell_type": "markdown",
   "id": "8d1baa33-eb09-4d9b-b515-4adcd2a19ad0",
   "metadata": {},
   "source": [
    "**Seems that the ID starts at the wrong number (-1), moving the index so it starts at 0 for more readability**"
   ]
  },
  {
   "cell_type": "code",
   "execution_count": 3,
   "id": "ad77c495-3008-4707-9d68-3a3f92207994",
   "metadata": {
    "tags": []
   },
   "outputs": [],
   "source": [
    "colors_df['id'] = colors_df['id'].shift(-1)"
   ]
  },
  {
   "cell_type": "code",
   "execution_count": 4,
   "id": "fd4d0cf0-95a1-44e2-9c72-a621b28dad83",
   "metadata": {
    "tags": []
   },
   "outputs": [],
   "source": [
    "colors_df.loc[134,'id'] = 10000"
   ]
  },
  {
   "cell_type": "code",
   "execution_count": 5,
   "id": "21deaeb5-c196-446d-bac9-24124bdda31d",
   "metadata": {
    "tags": []
   },
   "outputs": [
    {
     "data": {
      "text/html": [
       "<div>\n",
       "<style scoped>\n",
       "    .dataframe tbody tr th:only-of-type {\n",
       "        vertical-align: middle;\n",
       "    }\n",
       "\n",
       "    .dataframe tbody tr th {\n",
       "        vertical-align: top;\n",
       "    }\n",
       "\n",
       "    .dataframe thead th {\n",
       "        text-align: right;\n",
       "    }\n",
       "</style>\n",
       "<table border=\"1\" class=\"dataframe\">\n",
       "  <thead>\n",
       "    <tr style=\"text-align: right;\">\n",
       "      <th></th>\n",
       "      <th>id</th>\n",
       "      <th>name</th>\n",
       "      <th>rgb</th>\n",
       "      <th>is_trans</th>\n",
       "    </tr>\n",
       "  </thead>\n",
       "  <tbody>\n",
       "    <tr>\n",
       "      <th>0</th>\n",
       "      <td>0</td>\n",
       "      <td>Unknown</td>\n",
       "      <td>0033B2</td>\n",
       "      <td>f</td>\n",
       "    </tr>\n",
       "    <tr>\n",
       "      <th>1</th>\n",
       "      <td>1</td>\n",
       "      <td>Black</td>\n",
       "      <td>05131D</td>\n",
       "      <td>f</td>\n",
       "    </tr>\n",
       "    <tr>\n",
       "      <th>2</th>\n",
       "      <td>2</td>\n",
       "      <td>Blue</td>\n",
       "      <td>0055BF</td>\n",
       "      <td>f</td>\n",
       "    </tr>\n",
       "    <tr>\n",
       "      <th>3</th>\n",
       "      <td>3</td>\n",
       "      <td>Green</td>\n",
       "      <td>237841</td>\n",
       "      <td>f</td>\n",
       "    </tr>\n",
       "    <tr>\n",
       "      <th>4</th>\n",
       "      <td>4</td>\n",
       "      <td>Dark Turquoise</td>\n",
       "      <td>008F9B</td>\n",
       "      <td>f</td>\n",
       "    </tr>\n",
       "    <tr>\n",
       "      <th>...</th>\n",
       "      <td>...</td>\n",
       "      <td>...</td>\n",
       "      <td>...</td>\n",
       "      <td>...</td>\n",
       "    </tr>\n",
       "    <tr>\n",
       "      <th>130</th>\n",
       "      <td>1005</td>\n",
       "      <td>Trans Flame Yellowish Orange</td>\n",
       "      <td>FCB76D</td>\n",
       "      <td>t</td>\n",
       "    </tr>\n",
       "    <tr>\n",
       "      <th>131</th>\n",
       "      <td>1006</td>\n",
       "      <td>Trans Fire Yellow</td>\n",
       "      <td>FBE890</td>\n",
       "      <td>t</td>\n",
       "    </tr>\n",
       "    <tr>\n",
       "      <th>132</th>\n",
       "      <td>1007</td>\n",
       "      <td>Trans Light Royal Blue</td>\n",
       "      <td>B4D4F7</td>\n",
       "      <td>t</td>\n",
       "    </tr>\n",
       "    <tr>\n",
       "      <th>133</th>\n",
       "      <td>9999</td>\n",
       "      <td>Reddish Lilac</td>\n",
       "      <td>8E5597</td>\n",
       "      <td>f</td>\n",
       "    </tr>\n",
       "    <tr>\n",
       "      <th>134</th>\n",
       "      <td>10000</td>\n",
       "      <td>[No Color]</td>\n",
       "      <td>05131D</td>\n",
       "      <td>f</td>\n",
       "    </tr>\n",
       "  </tbody>\n",
       "</table>\n",
       "<p>135 rows × 4 columns</p>\n",
       "</div>"
      ],
      "text/plain": [
       "        id                          name     rgb is_trans\n",
       "0        0                       Unknown  0033B2        f\n",
       "1        1                         Black  05131D        f\n",
       "2        2                          Blue  0055BF        f\n",
       "3        3                         Green  237841        f\n",
       "4        4                Dark Turquoise  008F9B        f\n",
       "..     ...                           ...     ...      ...\n",
       "130   1005  Trans Flame Yellowish Orange  FCB76D        t\n",
       "131   1006             Trans Fire Yellow  FBE890        t\n",
       "132   1007        Trans Light Royal Blue  B4D4F7        t\n",
       "133   9999                 Reddish Lilac  8E5597        f\n",
       "134  10000                    [No Color]  05131D        f\n",
       "\n",
       "[135 rows x 4 columns]"
      ]
     },
     "execution_count": 5,
     "metadata": {},
     "output_type": "execute_result"
    }
   ],
   "source": [
    "colors_df['id'] = colors_df['id'].astype('int')\n",
    "colors_df"
   ]
  },
  {
   "cell_type": "markdown",
   "id": "002521cb-d034-4a98-bf7f-1c86588cad75",
   "metadata": {
    "tags": []
   },
   "source": [
    "**Turning the \"is transparent\" column into boolean**"
   ]
  },
  {
   "cell_type": "code",
   "execution_count": 6,
   "id": "5aa91cb3-c939-4b5b-a9ca-92d45c1b5a93",
   "metadata": {
    "tags": []
   },
   "outputs": [],
   "source": [
    "values_map = {'t': True, 'f': False}\n",
    "colors_df['is_trans'] = colors_df['is_trans'].replace(values_map)"
   ]
  },
  {
   "cell_type": "markdown",
   "id": "1e5fc671-8965-463a-a0f4-37bccdf97960",
   "metadata": {},
   "source": [
    "**Checking we don't have null values**"
   ]
  },
  {
   "cell_type": "code",
   "execution_count": 7,
   "id": "e7a45525-60ec-43d8-bd2b-c9fe5207f41b",
   "metadata": {
    "tags": []
   },
   "outputs": [
    {
     "data": {
      "text/plain": [
       "id     name   rgb    is_trans\n",
       "False  False  False  False       135\n",
       "Name: count, dtype: int64"
      ]
     },
     "execution_count": 7,
     "metadata": {},
     "output_type": "execute_result"
    }
   ],
   "source": [
    "colors_df.isnull().value_counts()"
   ]
  },
  {
   "cell_type": "markdown",
   "id": "65575bb4-f8e4-41fe-85da-5ad76b247cd1",
   "metadata": {
    "tags": []
   },
   "source": [
    "## Insights on the data"
   ]
  },
  {
   "cell_type": "code",
   "execution_count": 8,
   "id": "01d79b8c-8719-425c-b773-2c8f36b55a23",
   "metadata": {
    "tags": []
   },
   "outputs": [
    {
     "data": {
      "text/plain": [
       "135"
      ]
     },
     "execution_count": 8,
     "metadata": {},
     "output_type": "execute_result"
    }
   ],
   "source": [
    "#Checking that all the colors in our dataset are unique\n",
    "colors_df['name'].nunique()"
   ]
  },
  {
   "cell_type": "code",
   "execution_count": 9,
   "id": "7121b7a4-f23b-4064-9b34-7b44e0471f79",
   "metadata": {
    "tags": []
   },
   "outputs": [
    {
     "data": {
      "text/plain": [
       "is_trans\n",
       "False    107\n",
       "True      28\n",
       "Name: count, dtype: int64"
      ]
     },
     "execution_count": 9,
     "metadata": {},
     "output_type": "execute_result"
    }
   ],
   "source": [
    "colors_df['is_trans'].value_counts()"
   ]
  },
  {
   "cell_type": "code",
   "execution_count": 10,
   "id": "0203e3ec-8366-4153-ba21-e8647e4e5319",
   "metadata": {
    "tags": []
   },
   "outputs": [],
   "source": [
    "transparent_percentage =  ((colors_df['is_trans'] == True).sum() / (colors_df['is_trans'] == False).sum())*100"
   ]
  },
  {
   "cell_type": "code",
   "execution_count": 11,
   "id": "62adae24-cc73-4f86-b638-d99f584a846f",
   "metadata": {
    "tags": []
   },
   "outputs": [
    {
     "data": {
      "text/plain": [
       "26.168224299065418"
      ]
     },
     "execution_count": 11,
     "metadata": {},
     "output_type": "execute_result"
    }
   ],
   "source": [
    "transparent_percentage"
   ]
  },
  {
   "cell_type": "markdown",
   "id": "c310a1f2-b522-4693-b283-53b7380a5c70",
   "metadata": {},
   "source": [
    "# Lego sets dataset "
   ]
  },
  {
   "cell_type": "code",
   "execution_count": 12,
   "id": "74d8fc81-ae34-42c2-a77f-18d2b78dff73",
   "metadata": {
    "tags": []
   },
   "outputs": [
    {
     "data": {
      "text/html": [
       "<div>\n",
       "<style scoped>\n",
       "    .dataframe tbody tr th:only-of-type {\n",
       "        vertical-align: middle;\n",
       "    }\n",
       "\n",
       "    .dataframe tbody tr th {\n",
       "        vertical-align: top;\n",
       "    }\n",
       "\n",
       "    .dataframe thead th {\n",
       "        text-align: right;\n",
       "    }\n",
       "</style>\n",
       "<table border=\"1\" class=\"dataframe\">\n",
       "  <thead>\n",
       "    <tr style=\"text-align: right;\">\n",
       "      <th></th>\n",
       "      <th>set_num</th>\n",
       "      <th>name</th>\n",
       "      <th>year</th>\n",
       "      <th>theme_id</th>\n",
       "      <th>num_parts</th>\n",
       "    </tr>\n",
       "  </thead>\n",
       "  <tbody>\n",
       "    <tr>\n",
       "      <th>0</th>\n",
       "      <td>00-1</td>\n",
       "      <td>Weetabix Castle</td>\n",
       "      <td>1970</td>\n",
       "      <td>414</td>\n",
       "      <td>471</td>\n",
       "    </tr>\n",
       "    <tr>\n",
       "      <th>1</th>\n",
       "      <td>0011-2</td>\n",
       "      <td>Town Mini-Figures</td>\n",
       "      <td>1978</td>\n",
       "      <td>84</td>\n",
       "      <td>12</td>\n",
       "    </tr>\n",
       "    <tr>\n",
       "      <th>2</th>\n",
       "      <td>0011-3</td>\n",
       "      <td>Castle 2 for 1 Bonus Offer</td>\n",
       "      <td>1987</td>\n",
       "      <td>199</td>\n",
       "      <td>2</td>\n",
       "    </tr>\n",
       "    <tr>\n",
       "      <th>3</th>\n",
       "      <td>0012-1</td>\n",
       "      <td>Space Mini-Figures</td>\n",
       "      <td>1979</td>\n",
       "      <td>143</td>\n",
       "      <td>12</td>\n",
       "    </tr>\n",
       "    <tr>\n",
       "      <th>4</th>\n",
       "      <td>0013-1</td>\n",
       "      <td>Space Mini-Figures</td>\n",
       "      <td>1979</td>\n",
       "      <td>143</td>\n",
       "      <td>12</td>\n",
       "    </tr>\n",
       "    <tr>\n",
       "      <th>...</th>\n",
       "      <td>...</td>\n",
       "      <td>...</td>\n",
       "      <td>...</td>\n",
       "      <td>...</td>\n",
       "      <td>...</td>\n",
       "    </tr>\n",
       "    <tr>\n",
       "      <th>11861</th>\n",
       "      <td>Wauwatosa-1</td>\n",
       "      <td>LEGO Store Grand Opening Exclusive Set, Mayfai...</td>\n",
       "      <td>2012</td>\n",
       "      <td>408</td>\n",
       "      <td>15</td>\n",
       "    </tr>\n",
       "    <tr>\n",
       "      <th>11862</th>\n",
       "      <td>WHITEHOUSE-1</td>\n",
       "      <td>Micro White House</td>\n",
       "      <td>2015</td>\n",
       "      <td>598</td>\n",
       "      <td>59</td>\n",
       "    </tr>\n",
       "    <tr>\n",
       "      <th>11863</th>\n",
       "      <td>Wiesbaden-1</td>\n",
       "      <td>LEGO Store Grand Opening Exclusive Set, Wiesba...</td>\n",
       "      <td>2010</td>\n",
       "      <td>408</td>\n",
       "      <td>146</td>\n",
       "    </tr>\n",
       "    <tr>\n",
       "      <th>11864</th>\n",
       "      <td>WishingWell-1</td>\n",
       "      <td>Wishing Well [Toys R Us Promo]</td>\n",
       "      <td>2013</td>\n",
       "      <td>494</td>\n",
       "      <td>28</td>\n",
       "    </tr>\n",
       "    <tr>\n",
       "      <th>11865</th>\n",
       "      <td>wwgp1-1</td>\n",
       "      <td>Wild West Limited Edition Gift Pack</td>\n",
       "      <td>1996</td>\n",
       "      <td>476</td>\n",
       "      <td>3</td>\n",
       "    </tr>\n",
       "  </tbody>\n",
       "</table>\n",
       "<p>11866 rows × 5 columns</p>\n",
       "</div>"
      ],
      "text/plain": [
       "             set_num                                               name  year  \\\n",
       "0               00-1                                    Weetabix Castle  1970   \n",
       "1             0011-2                                  Town Mini-Figures  1978   \n",
       "2             0011-3                         Castle 2 for 1 Bonus Offer  1987   \n",
       "3             0012-1                                 Space Mini-Figures  1979   \n",
       "4             0013-1                                 Space Mini-Figures  1979   \n",
       "...              ...                                                ...   ...   \n",
       "11861    Wauwatosa-1  LEGO Store Grand Opening Exclusive Set, Mayfai...  2012   \n",
       "11862   WHITEHOUSE-1                                  Micro White House  2015   \n",
       "11863    Wiesbaden-1  LEGO Store Grand Opening Exclusive Set, Wiesba...  2010   \n",
       "11864  WishingWell-1                     Wishing Well [Toys R Us Promo]  2013   \n",
       "11865        wwgp1-1                Wild West Limited Edition Gift Pack  1996   \n",
       "\n",
       "       theme_id  num_parts  \n",
       "0           414        471  \n",
       "1            84         12  \n",
       "2           199          2  \n",
       "3           143         12  \n",
       "4           143         12  \n",
       "...         ...        ...  \n",
       "11861       408         15  \n",
       "11862       598         59  \n",
       "11863       408        146  \n",
       "11864       494         28  \n",
       "11865       476          3  \n",
       "\n",
       "[11866 rows x 5 columns]"
      ]
     },
     "execution_count": 12,
     "metadata": {},
     "output_type": "execute_result"
    }
   ],
   "source": [
    "sets_df = pd.read_csv('RawData/sets.csv')\n",
    "sets_df_backup = sets_df.to_csv()\n",
    "sets_df"
   ]
  },
  {
   "cell_type": "code",
   "execution_count": 13,
   "id": "08702c47-4a03-48e0-9efa-ea87695a69e5",
   "metadata": {
    "tags": []
   },
   "outputs": [
    {
     "data": {
      "text/plain": [
       "set_num  name   year   theme_id  num_parts\n",
       "False    False  False  False     False        11866\n",
       "Name: count, dtype: int64"
      ]
     },
     "execution_count": 13,
     "metadata": {},
     "output_type": "execute_result"
    }
   ],
   "source": [
    "sets_df.isnull().value_counts()"
   ]
  },
  {
   "cell_type": "code",
   "execution_count": 14,
   "id": "b3d01e94-b439-4ae5-af96-d254edff63ea",
   "metadata": {
    "tags": []
   },
   "outputs": [
    {
     "data": {
      "text/plain": [
       "set_num      object\n",
       "name         object\n",
       "year          int64\n",
       "theme_id      int64\n",
       "num_parts     int64\n",
       "dtype: object"
      ]
     },
     "execution_count": 14,
     "metadata": {},
     "output_type": "execute_result"
    }
   ],
   "source": [
    "sets_df.dtypes"
   ]
  },
  {
   "cell_type": "markdown",
   "id": "a6304442-d51f-4b9c-b291-6e8a2c5b0090",
   "metadata": {
    "tags": []
   },
   "source": [
    "## Insights on the data"
   ]
  },
  {
   "cell_type": "markdown",
   "id": "5fed8482-e2e6-4b87-909f-a3962f4b29e8",
   "metadata": {},
   "source": [
    "### Parts number exploration"
   ]
  },
  {
   "cell_type": "code",
   "execution_count": 15,
   "id": "f38097da-189f-4ff9-93b8-310c498ad185",
   "metadata": {
    "tags": []
   },
   "outputs": [
    {
     "data": {
      "text/html": [
       "<div>\n",
       "<style scoped>\n",
       "    .dataframe tbody tr th:only-of-type {\n",
       "        vertical-align: middle;\n",
       "    }\n",
       "\n",
       "    .dataframe tbody tr th {\n",
       "        vertical-align: top;\n",
       "    }\n",
       "\n",
       "    .dataframe thead th {\n",
       "        text-align: right;\n",
       "    }\n",
       "</style>\n",
       "<table border=\"1\" class=\"dataframe\">\n",
       "  <thead>\n",
       "    <tr style=\"text-align: right;\">\n",
       "      <th></th>\n",
       "      <th>set_num</th>\n",
       "      <th>name</th>\n",
       "      <th>year</th>\n",
       "      <th>theme_id</th>\n",
       "      <th>num_parts</th>\n",
       "    </tr>\n",
       "  </thead>\n",
       "  <tbody>\n",
       "    <tr>\n",
       "      <th>7065</th>\n",
       "      <td>700.1.2-1</td>\n",
       "      <td>Individual 2 x 2 Bricks</td>\n",
       "      <td>1950</td>\n",
       "      <td>371</td>\n",
       "      <td>9</td>\n",
       "    </tr>\n",
       "    <tr>\n",
       "      <th>7081</th>\n",
       "      <td>700.A-1</td>\n",
       "      <td>Automatic Binding Bricks Small Brick Set (Lego...</td>\n",
       "      <td>1950</td>\n",
       "      <td>366</td>\n",
       "      <td>24</td>\n",
       "    </tr>\n",
       "    <tr>\n",
       "      <th>7083</th>\n",
       "      <td>700.B.1-1</td>\n",
       "      <td>Individual 1 x 4 x 2 Window (without glass)</td>\n",
       "      <td>1950</td>\n",
       "      <td>371</td>\n",
       "      <td>7</td>\n",
       "    </tr>\n",
       "    <tr>\n",
       "      <th>7084</th>\n",
       "      <td>700.B.2-1</td>\n",
       "      <td>Individual 1 x 2 x 3 Window (without glass)</td>\n",
       "      <td>1950</td>\n",
       "      <td>371</td>\n",
       "      <td>7</td>\n",
       "    </tr>\n",
       "    <tr>\n",
       "      <th>7085</th>\n",
       "      <td>700.B.3-1</td>\n",
       "      <td>Individual 1 x 2 x 2 Window (without glass)</td>\n",
       "      <td>1950</td>\n",
       "      <td>371</td>\n",
       "      <td>7</td>\n",
       "    </tr>\n",
       "    <tr>\n",
       "      <th>...</th>\n",
       "      <td>...</td>\n",
       "      <td>...</td>\n",
       "      <td>...</td>\n",
       "      <td>...</td>\n",
       "      <td>...</td>\n",
       "    </tr>\n",
       "    <tr>\n",
       "      <th>5857</th>\n",
       "      <td>60145-1</td>\n",
       "      <td>Buggy</td>\n",
       "      <td>2017</td>\n",
       "      <td>63</td>\n",
       "      <td>80</td>\n",
       "    </tr>\n",
       "    <tr>\n",
       "      <th>5856</th>\n",
       "      <td>60144-1</td>\n",
       "      <td>Race Plane</td>\n",
       "      <td>2017</td>\n",
       "      <td>53</td>\n",
       "      <td>88</td>\n",
       "    </tr>\n",
       "    <tr>\n",
       "      <th>5855</th>\n",
       "      <td>60143-1</td>\n",
       "      <td>Auto Transport Heist</td>\n",
       "      <td>2017</td>\n",
       "      <td>61</td>\n",
       "      <td>402</td>\n",
       "    </tr>\n",
       "    <tr>\n",
       "      <th>5853</th>\n",
       "      <td>60141-1</td>\n",
       "      <td>Police Station</td>\n",
       "      <td>2017</td>\n",
       "      <td>61</td>\n",
       "      <td>893</td>\n",
       "    </tr>\n",
       "    <tr>\n",
       "      <th>480</th>\n",
       "      <td>10812-1</td>\n",
       "      <td>Truck &amp; Tracked Excavator</td>\n",
       "      <td>2017</td>\n",
       "      <td>504</td>\n",
       "      <td>26</td>\n",
       "    </tr>\n",
       "  </tbody>\n",
       "</table>\n",
       "<p>11866 rows × 5 columns</p>\n",
       "</div>"
      ],
      "text/plain": [
       "        set_num                                               name  year  \\\n",
       "7065  700.1.2-1                            Individual 2 x 2 Bricks  1950   \n",
       "7081    700.A-1  Automatic Binding Bricks Small Brick Set (Lego...  1950   \n",
       "7083  700.B.1-1        Individual 1 x 4 x 2 Window (without glass)  1950   \n",
       "7084  700.B.2-1        Individual 1 x 2 x 3 Window (without glass)  1950   \n",
       "7085  700.B.3-1        Individual 1 x 2 x 2 Window (without glass)  1950   \n",
       "...         ...                                                ...   ...   \n",
       "5857    60145-1                                              Buggy  2017   \n",
       "5856    60144-1                                         Race Plane  2017   \n",
       "5855    60143-1                               Auto Transport Heist  2017   \n",
       "5853    60141-1                                     Police Station  2017   \n",
       "480     10812-1                          Truck & Tracked Excavator  2017   \n",
       "\n",
       "      theme_id  num_parts  \n",
       "7065       371          9  \n",
       "7081       366         24  \n",
       "7083       371          7  \n",
       "7084       371          7  \n",
       "7085       371          7  \n",
       "...        ...        ...  \n",
       "5857        63         80  \n",
       "5856        53         88  \n",
       "5855        61        402  \n",
       "5853        61        893  \n",
       "480        504         26  \n",
       "\n",
       "[11866 rows x 5 columns]"
      ]
     },
     "execution_count": 15,
     "metadata": {},
     "output_type": "execute_result"
    }
   ],
   "source": [
    "sets_df_sorted_years = sets_df.sort_values('year')\n",
    "sets_df_sorted_years"
   ]
  },
  {
   "cell_type": "code",
   "execution_count": 16,
   "id": "dc727b21-3169-4e3b-beeb-4a63227cd16a",
   "metadata": {
    "tags": []
   },
   "outputs": [
    {
     "data": {
      "image/png": "[encoded data removed]",
      "text/plain": [
       "<Figure size 640x480 with 1 Axes>"
      ]
     },
     "metadata": {},
     "output_type": "display_data"
    }
   ],
   "source": [
    "sets_plot = sets_df_sorted_years.plot.bar(\n",
    "    x = 'year',\n",
    "    y = 'num_parts'\n",
    ")"
   ]
  },
  {
   "cell_type": "code",
   "execution_count": 17,
   "id": "0b34d3bf-fe20-43c3-b42a-790e4f0432b2",
   "metadata": {
    "tags": []
   },
   "outputs": [
    {
     "data": {
      "text/plain": [
       "1950"
      ]
     },
     "execution_count": 17,
     "metadata": {},
     "output_type": "execute_result"
    }
   ],
   "source": [
    "min(sets_df['year'])"
   ]
  },
  {
   "cell_type": "code",
   "execution_count": 18,
   "id": "a0db8234-733b-4153-91ee-8cf2a47429dc",
   "metadata": {
    "tags": []
   },
   "outputs": [
    {
     "data": {
      "text/plain": [
       "2017"
      ]
     },
     "execution_count": 18,
     "metadata": {},
     "output_type": "execute_result"
    }
   ],
   "source": [
    "max(sets_df['year'])"
   ]
  },
  {
   "cell_type": "markdown",
   "id": "f2b9eb72-f2b7-489e-b24d-700e13e43b2e",
   "metadata": {},
   "source": [
    "**The plot is not really readable because we have a lot of entries. Let's bin them to make it more easy to read.**\n",
    "**The years go from 1950 to 2017, let's say we'll bin by 10 years slices.**"
   ]
  },
  {
   "cell_type": "code",
   "execution_count": 19,
   "id": "2c9e958c-4670-45c9-8b02-2e34413bb3ea",
   "metadata": {
    "tags": []
   },
   "outputs": [
    {
     "data": {
      "text/html": [
       "<div>\n",
       "<style scoped>\n",
       "    .dataframe tbody tr th:only-of-type {\n",
       "        vertical-align: middle;\n",
       "    }\n",
       "\n",
       "    .dataframe tbody tr th {\n",
       "        vertical-align: top;\n",
       "    }\n",
       "\n",
       "    .dataframe thead th {\n",
       "        text-align: right;\n",
       "    }\n",
       "</style>\n",
       "<table border=\"1\" class=\"dataframe\">\n",
       "  <thead>\n",
       "    <tr style=\"text-align: right;\">\n",
       "      <th></th>\n",
       "      <th>year_binned</th>\n",
       "      <th>num_parts</th>\n",
       "    </tr>\n",
       "  </thead>\n",
       "  <tbody>\n",
       "    <tr>\n",
       "      <th>0</th>\n",
       "      <td>1950-1960</td>\n",
       "      <td>36.422222</td>\n",
       "    </tr>\n",
       "    <tr>\n",
       "      <th>1</th>\n",
       "      <td>1960-1970</td>\n",
       "      <td>69.410334</td>\n",
       "    </tr>\n",
       "    <tr>\n",
       "      <th>2</th>\n",
       "      <td>1970-1980</td>\n",
       "      <td>116.400641</td>\n",
       "    </tr>\n",
       "    <tr>\n",
       "      <th>3</th>\n",
       "      <td>1980-1990</td>\n",
       "      <td>108.266082</td>\n",
       "    </tr>\n",
       "    <tr>\n",
       "      <th>4</th>\n",
       "      <td>1990-2000</td>\n",
       "      <td>134.670927</td>\n",
       "    </tr>\n",
       "    <tr>\n",
       "      <th>5</th>\n",
       "      <td>2000-2010</td>\n",
       "      <td>180.303784</td>\n",
       "    </tr>\n",
       "    <tr>\n",
       "      <th>6</th>\n",
       "      <td>2011 and after</td>\n",
       "      <td>198.395783</td>\n",
       "    </tr>\n",
       "  </tbody>\n",
       "</table>\n",
       "</div>"
      ],
      "text/plain": [
       "      year_binned   num_parts\n",
       "0       1950-1960   36.422222\n",
       "1       1960-1970   69.410334\n",
       "2       1970-1980  116.400641\n",
       "3       1980-1990  108.266082\n",
       "4       1990-2000  134.670927\n",
       "5       2000-2010  180.303784\n",
       "6  2011 and after  198.395783"
      ]
     },
     "execution_count": 19,
     "metadata": {},
     "output_type": "execute_result"
    }
   ],
   "source": [
    "year_bins = [1950, 1960, 1970, 1980, 1990, 2000, 2010, 2020] \n",
    "year_bins_names = ['1950-1960', '1960-1970', '1970-1980', '1980-1990', '1990-2000','2000-2010','2011 and after']\n",
    "sets_df['year_binned'] = pd.cut(sets_df['year'], year_bins, labels = year_bins_names, include_lowest = True)\n",
    "grouped_set = sets_df.groupby('year_binned', as_index=False)['num_parts'].mean()\n",
    "grouped_set"
   ]
  },
  {
   "cell_type": "code",
   "execution_count": 20,
   "id": "413078a6-81ec-4ef1-8006-47c2e0db2802",
   "metadata": {
    "tags": []
   },
   "outputs": [
    {
     "data": {
      "text/plain": [
       "<Axes: xlabel='Years', ylabel='Number of parts in set'>"
      ]
     },
     "execution_count": 20,
     "metadata": {},
     "output_type": "execute_result"
    },
    {
     "data": {
      "image/png": "[encoded data removed]",
      "text/plain": [
       "<Figure size 640x480 with 1 Axes>"
      ]
     },
     "metadata": {},
     "output_type": "display_data"
    }
   ],
   "source": [
    "grouped_set.plot.bar(\n",
    "    x = 'year_binned',\n",
    "    y = 'num_parts',\n",
    "    xlabel = 'Years',\n",
    "    ylabel = 'Number of parts in set')"
   ]
  },
  {
   "cell_type": "markdown",
   "id": "6ca9c0f3-5011-42d4-848c-c8bb0cef24d0",
   "metadata": {
    "tags": []
   },
   "source": [
    "**Now that we know that the number of lego in a set increased over the years.**\n",
    "\n",
    "**We could wonder why in the 80's, there was a small drop in the number of parts.**\n",
    "\n",
    "**Is that because of financial matters ? Or maybe the lego sets started to have more specific / big pieces that were more expensive to manufacture, thus leading to the need to put less parts in the set to maintain the prices ?**"
   ]
  },
  {
   "cell_type": "markdown",
   "id": "aced924f-aa7a-43f8-8e5b-905cd42bb83c",
   "metadata": {},
   "source": [
    "### Themes exploration"
   ]
  },
  {
   "cell_type": "markdown",
   "id": "8c13d287-cfff-45dd-91ed-822f4c3c5015",
   "metadata": {},
   "source": [
    "**We can try to explore the number of existing lego sets, and thus try to explore how much we have of different well known licences like Disney or Star Wars**"
   ]
  },
  {
   "cell_type": "code",
   "execution_count": 103,
   "id": "14328111-e9b8-44c5-a7c2-466e67794ecc",
   "metadata": {
    "tags": []
   },
   "outputs": [
    {
     "name": "stdout",
     "output_type": "stream",
     "text": [
      "There is 585 existing sets\n"
     ]
    }
   ],
   "source": [
    "themes_number = sets_df['theme_id'].nunique()\n",
    "print('There is', themes_number, 'existing sets')"
   ]
  },
  {
   "cell_type": "code",
   "execution_count": 125,
   "id": "31097562-6b8d-45de-844b-9916c50a3e3b",
   "metadata": {
    "tags": []
   },
   "outputs": [
    {
     "name": "stdout",
     "output_type": "stream",
     "text": [
      "6 of them are on Disney theme\n"
     ]
    }
   ],
   "source": [
    "sets_df['disney_set'] = sets_df['name'].str.contains('Disney', case = False)\n",
    "disney_sets_number = sets_df['disney_set'].value_counts().loc[True]\n",
    "print(disney_sets_number, 'of them are on Disney theme')"
   ]
  },
  {
   "cell_type": "code",
   "execution_count": 126,
   "id": "aa05b577-0c1a-4c74-b682-ddb76fa31cc9",
   "metadata": {
    "tags": []
   },
   "outputs": [
    {
     "name": "stdout",
     "output_type": "stream",
     "text": [
      "201 of them are on Star Wars theme\n"
     ]
    }
   ],
   "source": [
    "sets_df['star_wars_sets'] = sets_df['name'].str.contains('Star wars', case = False)\n",
    "star_wars_sets_number = sets_df['star_wars_sets'].value_counts().loc[True]\n",
    "print(star_wars_sets_number, 'of them are on Star Wars theme')"
   ]
  },
  {
   "cell_type": "code",
   "execution_count": 127,
   "id": "aab2c280-e7f5-41a4-b692-abb634c33806",
   "metadata": {
    "tags": []
   },
   "outputs": [
    {
     "name": "stdout",
     "output_type": "stream",
     "text": [
      "11 of them are on Harry Potter theme\n"
     ]
    }
   ],
   "source": [
    "sets_df['harry_potter_sets'] = sets_df['name'].str.contains('Harry Potter', case = False)\n",
    "harry_potter_sets_number = sets_df['harry_potter_sets'].value_counts().loc[True]\n",
    "print(harry_potter_sets_number, 'of them are on Harry Potter theme')"
   ]
  },
  {
   "cell_type": "code",
   "execution_count": 143,
   "id": "37218463-ee81-4ef4-b89e-0dfde561312b",
   "metadata": {
    "tags": []
   },
   "outputs": [
    {
     "data": {
      "image/png": "[encoded data removed]",
      "text/plain": [
       "<Figure size 640x480 with 1 Axes>"
      ]
     },
     "metadata": {},
     "output_type": "display_data"
    }
   ],
   "source": [
    "disney_sets_years = sets_df[sets_df.disney_set == True]['year'].value_counts().sort_index()\n",
    "disney_plot = disney_sets_years.plot.bar()"
   ]
  },
  {
   "cell_type": "code",
   "execution_count": 144,
   "id": "96edee26-cda1-48ec-b593-b5455ff51acc",
   "metadata": {
    "tags": []
   },
   "outputs": [
    {
     "data": {
      "image/png": "[encoded data removed]",
      "text/plain": [
       "<Figure size 640x480 with 1 Axes>"
      ]
     },
     "metadata": {},
     "output_type": "display_data"
    }
   ],
   "source": [
    "star_wars_sets_years = sets_df[sets_df.star_wars_sets == True]['year'].value_counts().sort_index()\n",
    "star_wars_plot = star_wars_sets_years.plot.bar()"
   ]
  },
  {
   "cell_type": "code",
   "execution_count": 145,
   "id": "63f224b3-6c6a-40c9-8139-70d1bb72fe81",
   "metadata": {
    "tags": []
   },
   "outputs": [
    {
     "data": {
      "image/png": "[encoded data removed]",
      "text/plain": [
       "<Figure size 640x480 with 1 Axes>"
      ]
     },
     "metadata": {},
     "output_type": "display_data"
    }
   ],
   "source": [
    "harry_potter_sets_years = sets_df[sets_df.harry_potter_sets == True]['year'].value_counts().sort_index()\n",
    "harry_potter_plot = harry_potter_sets_years.plot.bar()"
   ]
  },
  {
   "cell_type": "markdown",
   "id": "9e197b6d-409a-4ed1-b8da-e493d6055301",
   "metadata": {},
   "source": [
    "**It seems that disney was not really often represented in lego sets, but the number of different sets are equally distributed in time. On another hand, it seems that Harry Potter sets have a big peak in 2002, which seems logical as first Harry Potter film came out in 2001 (and the second one in 2002), so the licence starting to be well known in 2002 made sense for Lego to start creating sets on this licence.**\n",
    "\n",
    "**On the side of Star Wars, no film seems to match the peaks in Lego sets creation, so maybe it refers to a trend that happened between 2011-2014 around Star Wars.**"
   ]
  },
  {
   "cell_type": "code",
   "execution_count": null,
   "id": "8a31ea9e-96b7-4d36-a5c7-36e01ba74d66",
   "metadata": {},
   "outputs": [],
   "source": []
  }
 ],
 "metadata": {
  "kernelspec": {
   "display_name": "Python 3 (ipykernel)",
   "language": "python",
   "name": "python3"
  },
  "language_info": {
   "codemirror_mode": {
    "name": "ipython",
    "version": 3
   },
   "file_extension": ".py",
   "mimetype": "text/x-python",
   "name": "python",
   "nbconvert_exporter": "python",
   "pygments_lexer": "ipython3",
   "version": "3.11.5"
  }
 },
 "nbformat": 4,
 "nbformat_minor": 5
}
